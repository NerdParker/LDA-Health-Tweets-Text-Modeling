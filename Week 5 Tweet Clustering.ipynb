{
 "cells": [
  {
   "cell_type": "code",
   "execution_count": 1,
   "metadata": {},
   "outputs": [],
   "source": [
    "from glob import iglob"
   ]
  },
  {
   "cell_type": "code",
   "execution_count": 2,
   "metadata": {},
   "outputs": [],
   "source": [
    "for file in iglob('Health-Tweets/*.txt'):\n",
    "    print(file)"
   ]
  },
  {
   "cell_type": "code",
   "execution_count": 3,
   "metadata": {},
   "outputs": [],
   "source": [
    "dfs = [] "
   ]
  },
  {
   "cell_type": "code",
   "execution_count": 4,
   "metadata": {},
   "outputs": [],
   "source": [
    "import pandas as pd"
   ]
  },
  {
   "cell_type": "code",
   "execution_count": 5,
   "metadata": {
    "scrolled": true
   },
   "outputs": [
    {
     "name": "stderr",
     "output_type": "stream",
     "text": [
      "b'Skipping line 71: expected 3 fields, saw 4\\nSkipping line 88: expected 3 fields, saw 4\\nSkipping line 130: expected 3 fields, saw 4\\nSkipping line 145: expected 3 fields, saw 4\\nSkipping line 257: expected 3 fields, saw 4\\nSkipping line 272: expected 3 fields, saw 4\\nSkipping line 325: expected 3 fields, saw 4\\nSkipping line 401: expected 3 fields, saw 4\\nSkipping line 412: expected 3 fields, saw 4\\nSkipping line 426: expected 3 fields, saw 4\\nSkipping line 507: expected 3 fields, saw 4\\nSkipping line 813: expected 3 fields, saw 4\\nSkipping line 1319: expected 3 fields, saw 4\\nSkipping line 1576: expected 3 fields, saw 4\\nSkipping line 1592: expected 3 fields, saw 4\\nSkipping line 1686: expected 3 fields, saw 4\\nSkipping line 1929: expected 3 fields, saw 4\\nSkipping line 2019: expected 3 fields, saw 4\\nSkipping line 2359: expected 3 fields, saw 4\\nSkipping line 2438: expected 3 fields, saw 4\\nSkipping line 2679: expected 3 fields, saw 4\\nSkipping line 2680: expected 3 fields, saw 4\\nSkipping line 2681: expected 3 fields, saw 4\\nSkipping line 3098: expected 3 fields, saw 4\\nSkipping line 3380: expected 3 fields, saw 4\\nSkipping line 3723: expected 3 fields, saw 4\\nSkipping line 4013: expected 3 fields, saw 4\\nSkipping line 4024: expected 3 fields, saw 4\\nSkipping line 4026: expected 3 fields, saw 4\\nSkipping line 4181: expected 3 fields, saw 4\\nSkipping line 4283: expected 3 fields, saw 4\\nSkipping line 4305: expected 3 fields, saw 4\\nSkipping line 4403: expected 3 fields, saw 4\\nSkipping line 4443: expected 3 fields, saw 4\\nSkipping line 4475: expected 3 fields, saw 4\\nSkipping line 4576: expected 3 fields, saw 4\\nSkipping line 4636: expected 3 fields, saw 4\\nSkipping line 4661: expected 3 fields, saw 4\\nSkipping line 4739: expected 3 fields, saw 4\\nSkipping line 4780: expected 3 fields, saw 4\\nSkipping line 4782: expected 3 fields, saw 4\\nSkipping line 4783: expected 3 fields, saw 4\\nSkipping line 4798: expected 3 fields, saw 4\\nSkipping line 4805: expected 3 fields, saw 4\\nSkipping line 4816: expected 3 fields, saw 4\\nSkipping line 4905: expected 3 fields, saw 4\\nSkipping line 4922: expected 3 fields, saw 4\\nSkipping line 4954: expected 3 fields, saw 4\\nSkipping line 4955: expected 3 fields, saw 4\\nSkipping line 4956: expected 3 fields, saw 4\\nSkipping line 4989: expected 3 fields, saw 4\\nSkipping line 5020: expected 3 fields, saw 4\\nSkipping line 5021: expected 3 fields, saw 4\\nSkipping line 5036: expected 3 fields, saw 4\\nSkipping line 5051: expected 3 fields, saw 4\\nSkipping line 5076: expected 3 fields, saw 4\\nSkipping line 5096: expected 3 fields, saw 4\\nSkipping line 5164: expected 3 fields, saw 4\\nSkipping line 5165: expected 3 fields, saw 4\\nSkipping line 5175: expected 3 fields, saw 4\\nSkipping line 5178: expected 3 fields, saw 4\\nSkipping line 5192: expected 3 fields, saw 4\\nSkipping line 5261: expected 3 fields, saw 4\\nSkipping line 5322: expected 3 fields, saw 4\\nSkipping line 5329: expected 3 fields, saw 4\\nSkipping line 5376: expected 3 fields, saw 4\\nSkipping line 5380: expected 3 fields, saw 4\\nSkipping line 5383: expected 3 fields, saw 4\\nSkipping line 5400: expected 3 fields, saw 4\\nSkipping line 5414: expected 3 fields, saw 4\\nSkipping line 5448: expected 3 fields, saw 4\\nSkipping line 5465: expected 3 fields, saw 4\\nSkipping line 5477: expected 3 fields, saw 4\\nSkipping line 5495: expected 3 fields, saw 4\\nSkipping line 5515: expected 3 fields, saw 4\\nSkipping line 5521: expected 3 fields, saw 4\\nSkipping line 5558: expected 3 fields, saw 4\\nSkipping line 5587: expected 3 fields, saw 4\\nSkipping line 5624: expected 3 fields, saw 4\\nSkipping line 5637: expected 3 fields, saw 4\\nSkipping line 5686: expected 3 fields, saw 4\\nSkipping line 5710: expected 3 fields, saw 4\\nSkipping line 5767: expected 3 fields, saw 4\\nSkipping line 5791: expected 3 fields, saw 4\\nSkipping line 5799: expected 3 fields, saw 4\\nSkipping line 5845: expected 3 fields, saw 4\\nSkipping line 5861: expected 3 fields, saw 4\\nSkipping line 5868: expected 3 fields, saw 4\\nSkipping line 5901: expected 3 fields, saw 4\\nSkipping line 5923: expected 3 fields, saw 4\\nSkipping line 5925: expected 3 fields, saw 4\\nSkipping line 5928: expected 3 fields, saw 4\\nSkipping line 5946: expected 3 fields, saw 4\\nSkipping line 5957: expected 3 fields, saw 4\\nSkipping line 5958: expected 3 fields, saw 4\\nSkipping line 5997: expected 3 fields, saw 4\\nSkipping line 6017: expected 3 fields, saw 4\\nSkipping line 6037: expected 3 fields, saw 4\\n'\n"
     ]
    }
   ],
   "source": [
    "dfs.append(pd.read_csv('C:/Users/607791/Desktop/DS/Text Analytics/Week5/Health-Tweets/nytimeshealth.txt',\n",
    "                       sep='|',\n",
    "                       header=None,\n",
    "                       error_bad_lines=False,\n",
    "                       encoding='latin-1'))\n",
    "\n",
    "dfs.append(pd.read_csv('C:/Users/607791/Desktop/DS/Text Analytics/Week5/Health-Tweets/msnhealthnews.txt',\n",
    "                       sep='|',\n",
    "                       header=None,\n",
    "                       error_bad_lines=False,\n",
    "                       encoding='latin-1'))"
   ]
  },
  {
   "cell_type": "code",
   "execution_count": 6,
   "metadata": {},
   "outputs": [],
   "source": [
    "df = pd.concat(dfs)"
   ]
  },
  {
   "cell_type": "code",
   "execution_count": 7,
   "metadata": {},
   "outputs": [
    {
     "data": {
      "text/plain": [
       "(9146, 3)"
      ]
     },
     "execution_count": 7,
     "metadata": {},
     "output_type": "execute_result"
    }
   ],
   "source": [
    "df.shape"
   ]
  },
  {
   "cell_type": "code",
   "execution_count": 8,
   "metadata": {},
   "outputs": [
    {
     "data": {
      "text/html": [
       "<div>\n",
       "<style scoped>\n",
       "    .dataframe tbody tr th:only-of-type {\n",
       "        vertical-align: middle;\n",
       "    }\n",
       "\n",
       "    .dataframe tbody tr th {\n",
       "        vertical-align: top;\n",
       "    }\n",
       "\n",
       "    .dataframe thead th {\n",
       "        text-align: right;\n",
       "    }\n",
       "</style>\n",
       "<table border=\"1\" class=\"dataframe\">\n",
       "  <thead>\n",
       "    <tr style=\"text-align: right;\">\n",
       "      <th></th>\n",
       "      <th>0</th>\n",
       "      <th>1</th>\n",
       "      <th>2</th>\n",
       "    </tr>\n",
       "  </thead>\n",
       "  <tbody>\n",
       "    <tr>\n",
       "      <th>0</th>\n",
       "      <td>548662191340421120</td>\n",
       "      <td>Sat Dec 27 02:10:34 +0000 2014</td>\n",
       "      <td>Risks in Using Social Media to Spot Signs of M...</td>\n",
       "    </tr>\n",
       "    <tr>\n",
       "      <th>1</th>\n",
       "      <td>548579831169163265</td>\n",
       "      <td>Fri Dec 26 20:43:18 +0000 2014</td>\n",
       "      <td>RT @paula_span: The most effective nationwide ...</td>\n",
       "    </tr>\n",
       "    <tr>\n",
       "      <th>2</th>\n",
       "      <td>548579045269852161</td>\n",
       "      <td>Fri Dec 26 20:40:11 +0000 2014</td>\n",
       "      <td>The New Old Age Blog: Diabetes Prevention That...</td>\n",
       "    </tr>\n",
       "    <tr>\n",
       "      <th>3</th>\n",
       "      <td>548444679529041920</td>\n",
       "      <td>Fri Dec 26 11:46:15 +0000 2014</td>\n",
       "      <td>Well: Comfort Casseroles for Winter Dinners ht...</td>\n",
       "    </tr>\n",
       "    <tr>\n",
       "      <th>4</th>\n",
       "      <td>548311901227474944</td>\n",
       "      <td>Fri Dec 26 02:58:39 +0000 2014</td>\n",
       "      <td>High-Level Knowledge Before Veterans Affairs S...</td>\n",
       "    </tr>\n",
       "  </tbody>\n",
       "</table>\n",
       "</div>"
      ],
      "text/plain": [
       "                    0                               1  \\\n",
       "0  548662191340421120  Sat Dec 27 02:10:34 +0000 2014   \n",
       "1  548579831169163265  Fri Dec 26 20:43:18 +0000 2014   \n",
       "2  548579045269852161  Fri Dec 26 20:40:11 +0000 2014   \n",
       "3  548444679529041920  Fri Dec 26 11:46:15 +0000 2014   \n",
       "4  548311901227474944  Fri Dec 26 02:58:39 +0000 2014   \n",
       "\n",
       "                                                   2  \n",
       "0  Risks in Using Social Media to Spot Signs of M...  \n",
       "1  RT @paula_span: The most effective nationwide ...  \n",
       "2  The New Old Age Blog: Diabetes Prevention That...  \n",
       "3  Well: Comfort Casseroles for Winter Dinners ht...  \n",
       "4  High-Level Knowledge Before Veterans Affairs S...  "
      ]
     },
     "execution_count": 8,
     "metadata": {},
     "output_type": "execute_result"
    }
   ],
   "source": [
    "df.head()"
   ]
  },
  {
   "cell_type": "code",
   "execution_count": 9,
   "metadata": {},
   "outputs": [],
   "source": [
    "df.columns = [0, 1, 'tweet']"
   ]
  },
  {
   "cell_type": "code",
   "execution_count": 10,
   "metadata": {},
   "outputs": [
    {
     "data": {
      "text/html": [
       "<div>\n",
       "<style scoped>\n",
       "    .dataframe tbody tr th:only-of-type {\n",
       "        vertical-align: middle;\n",
       "    }\n",
       "\n",
       "    .dataframe tbody tr th {\n",
       "        vertical-align: top;\n",
       "    }\n",
       "\n",
       "    .dataframe thead th {\n",
       "        text-align: right;\n",
       "    }\n",
       "</style>\n",
       "<table border=\"1\" class=\"dataframe\">\n",
       "  <thead>\n",
       "    <tr style=\"text-align: right;\">\n",
       "      <th></th>\n",
       "      <th>0</th>\n",
       "      <th>1</th>\n",
       "      <th>tweet</th>\n",
       "    </tr>\n",
       "  </thead>\n",
       "  <tbody>\n",
       "    <tr>\n",
       "      <th>0</th>\n",
       "      <td>548662191340421120</td>\n",
       "      <td>Sat Dec 27 02:10:34 +0000 2014</td>\n",
       "      <td>Risks in Using Social Media to Spot Signs of M...</td>\n",
       "    </tr>\n",
       "    <tr>\n",
       "      <th>1</th>\n",
       "      <td>548579831169163265</td>\n",
       "      <td>Fri Dec 26 20:43:18 +0000 2014</td>\n",
       "      <td>RT @paula_span: The most effective nationwide ...</td>\n",
       "    </tr>\n",
       "    <tr>\n",
       "      <th>2</th>\n",
       "      <td>548579045269852161</td>\n",
       "      <td>Fri Dec 26 20:40:11 +0000 2014</td>\n",
       "      <td>The New Old Age Blog: Diabetes Prevention That...</td>\n",
       "    </tr>\n",
       "    <tr>\n",
       "      <th>3</th>\n",
       "      <td>548444679529041920</td>\n",
       "      <td>Fri Dec 26 11:46:15 +0000 2014</td>\n",
       "      <td>Well: Comfort Casseroles for Winter Dinners ht...</td>\n",
       "    </tr>\n",
       "    <tr>\n",
       "      <th>4</th>\n",
       "      <td>548311901227474944</td>\n",
       "      <td>Fri Dec 26 02:58:39 +0000 2014</td>\n",
       "      <td>High-Level Knowledge Before Veterans Affairs S...</td>\n",
       "    </tr>\n",
       "  </tbody>\n",
       "</table>\n",
       "</div>"
      ],
      "text/plain": [
       "                    0                               1  \\\n",
       "0  548662191340421120  Sat Dec 27 02:10:34 +0000 2014   \n",
       "1  548579831169163265  Fri Dec 26 20:43:18 +0000 2014   \n",
       "2  548579045269852161  Fri Dec 26 20:40:11 +0000 2014   \n",
       "3  548444679529041920  Fri Dec 26 11:46:15 +0000 2014   \n",
       "4  548311901227474944  Fri Dec 26 02:58:39 +0000 2014   \n",
       "\n",
       "                                               tweet  \n",
       "0  Risks in Using Social Media to Spot Signs of M...  \n",
       "1  RT @paula_span: The most effective nationwide ...  \n",
       "2  The New Old Age Blog: Diabetes Prevention That...  \n",
       "3  Well: Comfort Casseroles for Winter Dinners ht...  \n",
       "4  High-Level Knowledge Before Veterans Affairs S...  "
      ]
     },
     "execution_count": 10,
     "metadata": {},
     "output_type": "execute_result"
    }
   ],
   "source": [
    "df.head()"
   ]
  },
  {
   "cell_type": "code",
   "execution_count": 11,
   "metadata": {},
   "outputs": [],
   "source": [
    "import spacy\n",
    "nlp = spacy.load('en_core_web_lg')\n",
    "import nltk"
   ]
  },
  {
   "cell_type": "code",
   "execution_count": 12,
   "metadata": {},
   "outputs": [],
   "source": [
    "stopwords = nltk.corpus.stopwords.words('english')"
   ]
  },
  {
   "cell_type": "code",
   "execution_count": 13,
   "metadata": {},
   "outputs": [],
   "source": [
    "stopwords = set(stopwords + ['RT', 'health', 'healthcare'])"
   ]
  },
  {
   "cell_type": "code",
   "execution_count": 14,
   "metadata": {},
   "outputs": [],
   "source": [
    "import string"
   ]
  },
  {
   "cell_type": "code",
   "execution_count": 15,
   "metadata": {
    "code_folding": []
   },
   "outputs": [],
   "source": [
    "#1. clean text function -- spacy lowercases, removes stopwords, lemmatizes\n",
    "def clean_text(docs):\n",
    "    # remove punctuation and numbers\n",
    "    # I do this before lemmatizing, so things like \"act's\" turn into 'act' instead of 'act s'\n",
    "    print('removing punctuation and digits')\n",
    "    table = str.maketrans({key: None for key in string.punctuation + string.digits})\n",
    "    clean_docs = [d.translate(table) for d in docs]\n",
    "    \n",
    "    print('spacy nlp...')\n",
    "    nlp_docs = [nlp(d) for d in clean_docs]\n",
    "    \n",
    "    # keep the word if it's a pronoun, otherwise use the lemma\n",
    "    # otherwise spacy substitutes '-PRON-' for pronouns\n",
    "    print('getting lemmas')\n",
    "    lemmatized_docs = [[w.lemma_ if w.lemma_ != '-PRON-'\n",
    "                           else w.lower_\n",
    "                           for w in d]\n",
    "                      for d in nlp_docs]\n",
    "    \n",
    "    # remove stopwords\n",
    "    print('removing stopwords')\n",
    "    lemmatized_docs = [[lemma for lemma in doc if lemma not in stopwords] for doc in lemmatized_docs]\n",
    "    \n",
    "    # join tokens back into doc\n",
    "    clean_docs = [' '.join(l) for l in lemmatized_docs]\n",
    "        \n",
    "    return clean_docs"
   ]
  },
  {
   "cell_type": "code",
   "execution_count": 16,
   "metadata": {},
   "outputs": [],
   "source": [
    "import numpy as np\n",
    "\n",
    "np.random.seed(42)\n",
    "sampled_tweets = df['tweet'].sample(100)"
   ]
  },
  {
   "cell_type": "code",
   "execution_count": 17,
   "metadata": {},
   "outputs": [],
   "source": [
    "import re"
   ]
  },
  {
   "cell_type": "code",
   "execution_count": 18,
   "metadata": {},
   "outputs": [],
   "source": [
    "# \\S is anything that is not a space\n",
    "no_html_sampled_tweets = sampled_tweets.apply(lambda x: re.sub('http://\\S+', '', x))\n",
    "# may want to remove https and usernames (@username) as well"
   ]
  },
  {
   "cell_type": "code",
   "execution_count": 19,
   "metadata": {},
   "outputs": [
    {
     "data": {
      "text/plain": [
       "'Risks in Using Social Media to Spot Signs of Mental Distress http://nyti.ms/1rqi9I1'"
      ]
     },
     "execution_count": 19,
     "metadata": {},
     "output_type": "execute_result"
    }
   ],
   "source": [
    "df['tweet'].iloc[0]"
   ]
  },
  {
   "cell_type": "code",
   "execution_count": 20,
   "metadata": {},
   "outputs": [
    {
     "data": {
      "text/plain": [
       "'Jesse L. Steinfeld, Surgeon General and Tobacco Foe, Dies at 87 '"
      ]
     },
     "execution_count": 20,
     "metadata": {},
     "output_type": "execute_result"
    }
   ],
   "source": [
    "#Remove htmls\n",
    "no_html_sampled_tweets.iloc[0]"
   ]
  },
  {
   "cell_type": "code",
   "execution_count": 21,
   "metadata": {},
   "outputs": [
    {
     "data": {
      "text/plain": [
       "100"
      ]
     },
     "execution_count": 21,
     "metadata": {},
     "output_type": "execute_result"
    }
   ],
   "source": [
    "len(no_html_sampled_tweets)"
   ]
  },
  {
   "cell_type": "code",
   "execution_count": 22,
   "metadata": {},
   "outputs": [
    {
     "name": "stdout",
     "output_type": "stream",
     "text": [
      "removing punctuation and digits\n",
      "spacy nlp...\n",
      "getting lemmas\n",
      "removing stopwords\n"
     ]
    }
   ],
   "source": [
    "clean_tweets = clean_text(no_html_sampled_tweets)"
   ]
  },
  {
   "cell_type": "code",
   "execution_count": 23,
   "metadata": {},
   "outputs": [
    {
     "data": {
      "text/plain": [
       "['Jesse L Steinfeld Surgeon General Tobacco Foe die  ',\n",
       " 'deaf People More Mental Health problem Less Access care  ',\n",
       " 'Can get Ebola bowling ball likely  ',\n",
       " 'OpEd contributor give cancer',\n",
       " 'sugary drink Can hard Heart Study  ',\n",
       " 'paulaspan die old people get bounce hospice care',\n",
       " 'food challenge provide Best Allergy Diagnoses Study  ',\n",
       " 'Playersâ\\x80\\x99 Summer Health receive YearRound attention NFL',\n",
       " 'well Easing Doctor Burnout mindfulness',\n",
       " 'XRay screening prevent Lung Cancer Deaths Study  ']"
      ]
     },
     "execution_count": 23,
     "metadata": {},
     "output_type": "execute_result"
    }
   ],
   "source": [
    "clean_tweets[:10]"
   ]
  },
  {
   "cell_type": "code",
   "execution_count": 24,
   "metadata": {},
   "outputs": [
    {
     "data": {
      "text/plain": [
       "'Players Summer Health receive YearRound attention NFL'"
      ]
     },
     "execution_count": 24,
     "metadata": {},
     "output_type": "execute_result"
    }
   ],
   "source": [
    "# remove weird characters\n",
    "clean_tweets[:10][-3].encode('ascii', 'ignore').decode('ascii')"
   ]
  },
  {
   "cell_type": "code",
   "execution_count": 25,
   "metadata": {},
   "outputs": [],
   "source": [
    "from sklearn.feature_extraction.text import TfidfVectorizer"
   ]
  },
  {
   "cell_type": "code",
   "execution_count": 26,
   "metadata": {},
   "outputs": [
    {
     "data": {
      "text/plain": [
       "scipy.sparse.csr.csr_matrix"
      ]
     },
     "execution_count": 26,
     "metadata": {},
     "output_type": "execute_result"
    }
   ],
   "source": [
    "#2. Create TfIdf vectors for each tweet (features)\n",
    "vectorizer = TfidfVectorizer(min_df=2)\n",
    "features = vectorizer.fit_transform(clean_tweets)\n",
    "type(features)"
   ]
  },
  {
   "cell_type": "code",
   "execution_count": 27,
   "metadata": {},
   "outputs": [
    {
     "data": {
      "text/plain": [
       "(100, 79)"
      ]
     },
     "execution_count": 27,
     "metadata": {},
     "output_type": "execute_result"
    }
   ],
   "source": [
    "features.shape"
   ]
  },
  {
   "cell_type": "code",
   "execution_count": 28,
   "metadata": {},
   "outputs": [],
   "source": [
    "features = features.todense()"
   ]
  },
  {
   "cell_type": "code",
   "execution_count": 29,
   "metadata": {},
   "outputs": [],
   "source": [
    "from sklearn.cluster import KMeans"
   ]
  },
  {
   "cell_type": "code",
   "execution_count": 30,
   "metadata": {},
   "outputs": [],
   "source": [
    "#Cluster tweets with KMeans\n",
    "model = KMeans(n_clusters=10, random_state=42, n_jobs=-1)"
   ]
  },
  {
   "cell_type": "code",
   "execution_count": 31,
   "metadata": {},
   "outputs": [
    {
     "data": {
      "text/plain": [
       "KMeans(algorithm='auto', copy_x=True, init='k-means++', max_iter=300,\n",
       "       n_clusters=10, n_init=10, n_jobs=-1, precompute_distances='auto',\n",
       "       random_state=42, tol=0.0001, verbose=0)"
      ]
     },
     "execution_count": 31,
     "metadata": {},
     "output_type": "execute_result"
    }
   ],
   "source": [
    "model.fit(features)"
   ]
  },
  {
   "cell_type": "code",
   "execution_count": 32,
   "metadata": {},
   "outputs": [
    {
     "name": "stdout",
     "output_type": "stream",
     "text": [
      "2\n",
      "3\n",
      "4\n",
      "5\n",
      "6\n",
      "7\n",
      "8\n",
      "9\n"
     ]
    }
   ],
   "source": [
    "wss = []\n",
    "for n in range(2, 10):\n",
    "    print(n)\n",
    "    model = KMeans(n_clusters=n, random_state=42, n_jobs=-1)\n",
    "    model.fit(features)\n",
    "    wss.append(-model.score(features))"
   ]
  },
  {
   "cell_type": "code",
   "execution_count": 33,
   "metadata": {},
   "outputs": [],
   "source": [
    "import matplotlib.pyplot as plt\n",
    "%matplotlib inline"
   ]
  },
  {
   "cell_type": "code",
   "execution_count": 34,
   "metadata": {},
   "outputs": [
    {
     "data": {
      "text/plain": [
       "<matplotlib.collections.PathCollection at 0x1d5886a45f8>"
      ]
     },
     "execution_count": 34,
     "metadata": {},
     "output_type": "execute_result"
    },
    {
     "data": {
      "image/png": "[encoded data removed]",
      "text/plain": [
       "<Figure size 432x288 with 1 Axes>"
      ]
     },
     "metadata": {
      "needs_background": "light"
     },
     "output_type": "display_data"
    }
   ],
   "source": [
    "#plot looking for drop off to find ideal number of clusters\n",
    "plt.scatter(range(2, 10), wss)"
   ]
  },
  {
   "cell_type": "code",
   "execution_count": 35,
   "metadata": {},
   "outputs": [
    {
     "data": {
      "text/plain": [
       "array([-2.94113174, -2.60868186, -2.02805913, -3.19964766, -2.83134637,\n",
       "       -0.31142793, -3.10840489])"
      ]
     },
     "execution_count": 35,
     "metadata": {},
     "output_type": "execute_result"
    }
   ],
   "source": [
    "np.diff(wss)"
   ]
  },
  {
   "cell_type": "code",
   "execution_count": 36,
   "metadata": {},
   "outputs": [
    {
     "data": {
      "text/plain": [
       "[85.090924175072,\n",
       " 82.14979243293783,\n",
       " 79.54111057641859,\n",
       " 77.51305145111591,\n",
       " 74.31340378743647,\n",
       " 71.48205741304801,\n",
       " 71.1706294836794,\n",
       " 68.06222459337707]"
      ]
     },
     "execution_count": 36,
     "metadata": {},
     "output_type": "execute_result"
    }
   ],
   "source": [
    "wss"
   ]
  },
  {
   "cell_type": "code",
   "execution_count": 37,
   "metadata": {},
   "outputs": [
    {
     "data": {
      "text/plain": [
       "<matplotlib.collections.PathCollection at 0x1d588762dd8>"
      ]
     },
     "execution_count": 37,
     "metadata": {},
     "output_type": "execute_result"
    },
    {
     "data": {
      "image/png": "[encoded data removed]",
      "text/plain": [
       "<Figure size 432x288 with 1 Axes>"
      ]
     },
     "metadata": {
      "needs_background": "light"
     },
     "output_type": "display_data"
    }
   ],
   "source": [
    "plt.scatter(range(3, 10), np.diff(wss))"
   ]
  },
  {
   "cell_type": "code",
   "execution_count": 38,
   "metadata": {},
   "outputs": [],
   "source": [
    "model = KMeans(n_clusters=7, random_state=42, n_jobs=-1)"
   ]
  },
  {
   "cell_type": "code",
   "execution_count": 39,
   "metadata": {},
   "outputs": [
    {
     "data": {
      "text/plain": [
       "KMeans(algorithm='auto', copy_x=True, init='k-means++', max_iter=300,\n",
       "       n_clusters=7, n_init=10, n_jobs=-1, precompute_distances='auto',\n",
       "       random_state=42, tol=0.0001, verbose=0)"
      ]
     },
     "execution_count": 39,
     "metadata": {},
     "output_type": "execute_result"
    }
   ],
   "source": [
    "model.fit(features)"
   ]
  },
  {
   "cell_type": "code",
   "execution_count": 40,
   "metadata": {},
   "outputs": [],
   "source": [
    "cluster_labels = model.predict(features)"
   ]
  },
  {
   "cell_type": "code",
   "execution_count": 41,
   "metadata": {},
   "outputs": [
    {
     "data": {
      "text/plain": [
       "array([0, 3, 1, 4, 2, 3, 2, 3, 6, 4, 3, 5, 1, 0, 3, 0, 1, 6, 3, 6, 0, 6,\n",
       "       5, 0, 0, 6, 1, 6, 0, 0, 3, 0, 0, 1, 6, 1, 0, 0, 5, 3, 6, 5, 0, 4,\n",
       "       0, 3, 0, 3, 5, 2, 0, 1, 0, 3, 5, 0, 2, 0, 0, 0, 0, 6, 0, 0, 0, 1,\n",
       "       2, 4, 5, 6, 2, 5, 1, 0, 0, 0, 0, 6, 2, 3, 4, 0, 0, 0, 5, 0, 2, 6,\n",
       "       2, 0, 5, 0, 0, 0, 6, 4, 1, 0, 6, 0])"
      ]
     },
     "execution_count": 41,
     "metadata": {},
     "output_type": "execute_result"
    }
   ],
   "source": [
    "cluster_labels"
   ]
  },
  {
   "cell_type": "code",
   "execution_count": 42,
   "metadata": {},
   "outputs": [
    {
     "data": {
      "text/plain": [
       "array([39, 10,  9, 12,  6, 10, 14], dtype=int64)"
      ]
     },
     "execution_count": 42,
     "metadata": {},
     "output_type": "execute_result"
    }
   ],
   "source": [
    "# distribution of points in clusters\n",
    "np.bincount(cluster_labels)"
   ]
  },
  {
   "cell_type": "code",
   "execution_count": 43,
   "metadata": {},
   "outputs": [
    {
     "data": {
      "text/plain": [
       "array(['Jesse L Steinfeld Surgeon General Tobacco Foe die  ',\n",
       "       'QampA Baby menopause', 'Map maker mind Control Flash Light',\n",
       "       'teen sexting may less common fear  ',\n",
       "       'Hunger Hormones May drive PostDieting Weight gain  ',\n",
       "       'try sweet stirfry Thai flavor Photo Andrew Scrivani NYT  ',\n",
       "       'US want Buttress Alzheimers Arsenal   ',\n",
       "       'brewcitypaul thank respond NYTimes tweet football food Can dm us contact info',\n",
       "       'Technophoria dissent device help find melanoma',\n",
       "       'Burger King introduce LowerFat french fry',\n",
       "       'e resolution lose weight year Jane Brodys triedandtrue weight loss tip',\n",
       "       'Hookah Use   grow among Young Adults California  ',\n",
       "       'fashionable option reshape sunprotective clothing',\n",
       "       'opinion â\\x80\\x98Healthyâ\\x80\\x99 Microbiome',\n",
       "       '  food reduce inflammation  ',\n",
       "       'E Coli Chicken link Urinary Tract infection  ',\n",
       "       'Will Eating Sweets make sweet  ',\n",
       "       'BarryMeier FDA crack hydrocodone',\n",
       "       'Statin alternative look promise early trial  ',\n",
       "       'average waist circumference â\\x80\\x94 bmiâ\\x80\\x94 increase significantly US    ',\n",
       "       'CDC Americans Levels Vitamins Nutrients basically ok  ',\n",
       "       'list SmokingRelated Illnesses grow significantly US Report',\n",
       "       'heavy May mean hot flash woman   ',\n",
       "       'pet help woman cope HIVAIDS  ',\n",
       "       'OpEd contributor resurrect Smallpox easy think',\n",
       "       'delay China Avian Flu Announcement question',\n",
       "       'Most Adults facial disfigurement adapt psychologically  ',\n",
       "       'childhood Leukemia Survival Rates reach   percent  ',\n",
       "       'Crawdad grow anxious', 'Fitness Rowing revive gym',\n",
       "       'infant face Trigger Caregiving impulse Adults Brains  ',\n",
       "       'curiosity make Better student  ',\n",
       "       'New Old Age Blog High Disability rate persist Old Age',\n",
       "       'cslnyt live life purpose gene may turn   GretchenReynold',\n",
       "       'ExPlayers Sue NFL Brain injury  ',\n",
       "       'ovarian tumor May develop year Fertility Therapy  ',\n",
       "       'take break bad news healthy comfort food lentil pie Photo Andrew Scrivani  ',\n",
       "       'Online Dating Scams Can take emotional Financial Toll  ',\n",
       "       'toxic gas Dogs vomit threat Vets CDC  '], dtype='<U90')"
      ]
     },
     "execution_count": 43,
     "metadata": {},
     "output_type": "execute_result"
    }
   ],
   "source": [
    "# top words in clusters\n",
    "cluster0_tweets = np.array(clean_tweets)[cluster_labels == 0]\n",
    "cluster0_tweets"
   ]
  },
  {
   "cell_type": "code",
   "execution_count": 44,
   "metadata": {},
   "outputs": [],
   "source": [
    "wordcount = nltk.FreqDist(nltk.tokenize.word_tokenize(' '.join(cluster0_tweets)))"
   ]
  },
  {
   "cell_type": "code",
   "execution_count": 45,
   "metadata": {},
   "outputs": [
    {
     "data": {
      "text/plain": [
       "[('May', 3),\n",
       " ('US', 3),\n",
       " ('food', 3),\n",
       " ('grow', 3),\n",
       " ('Adults', 3),\n",
       " ('may', 2),\n",
       " ('sweet', 2),\n",
       " ('Photo', 2),\n",
       " ('Andrew', 2),\n",
       " ('Scrivani', 2)]"
      ]
     },
     "execution_count": 45,
     "metadata": {},
     "output_type": "execute_result"
    }
   ],
   "source": [
    "# top 10 words from cluster\n",
    "wordcount.most_common(10)"
   ]
  },
  {
   "cell_type": "code",
   "execution_count": 46,
   "metadata": {},
   "outputs": [
    {
     "data": {
      "text/html": [
       "<div>\n",
       "<style scoped>\n",
       "    .dataframe tbody tr th:only-of-type {\n",
       "        vertical-align: middle;\n",
       "    }\n",
       "\n",
       "    .dataframe tbody tr th {\n",
       "        vertical-align: top;\n",
       "    }\n",
       "\n",
       "    .dataframe thead th {\n",
       "        text-align: right;\n",
       "    }\n",
       "</style>\n",
       "<table border=\"1\" class=\"dataframe\">\n",
       "  <thead>\n",
       "    <tr style=\"text-align: right;\">\n",
       "      <th></th>\n",
       "      <th>0</th>\n",
       "      <th>1</th>\n",
       "      <th>tweet</th>\n",
       "    </tr>\n",
       "  </thead>\n",
       "  <tbody>\n",
       "    <tr>\n",
       "      <th>0</th>\n",
       "      <td>548662191340421120</td>\n",
       "      <td>Sat Dec 27 02:10:34 +0000 2014</td>\n",
       "      <td>Risks in Using Social Media to Spot Signs of M...</td>\n",
       "    </tr>\n",
       "    <tr>\n",
       "      <th>1</th>\n",
       "      <td>548579831169163265</td>\n",
       "      <td>Fri Dec 26 20:43:18 +0000 2014</td>\n",
       "      <td>RT @paula_span: The most effective nationwide ...</td>\n",
       "    </tr>\n",
       "    <tr>\n",
       "      <th>2</th>\n",
       "      <td>548579045269852161</td>\n",
       "      <td>Fri Dec 26 20:40:11 +0000 2014</td>\n",
       "      <td>The New Old Age Blog: Diabetes Prevention That...</td>\n",
       "    </tr>\n",
       "    <tr>\n",
       "      <th>3</th>\n",
       "      <td>548444679529041920</td>\n",
       "      <td>Fri Dec 26 11:46:15 +0000 2014</td>\n",
       "      <td>Well: Comfort Casseroles for Winter Dinners ht...</td>\n",
       "    </tr>\n",
       "    <tr>\n",
       "      <th>4</th>\n",
       "      <td>548311901227474944</td>\n",
       "      <td>Fri Dec 26 02:58:39 +0000 2014</td>\n",
       "      <td>High-Level Knowledge Before Veterans Affairs S...</td>\n",
       "    </tr>\n",
       "  </tbody>\n",
       "</table>\n",
       "</div>"
      ],
      "text/plain": [
       "                    0                               1  \\\n",
       "0  548662191340421120  Sat Dec 27 02:10:34 +0000 2014   \n",
       "1  548579831169163265  Fri Dec 26 20:43:18 +0000 2014   \n",
       "2  548579045269852161  Fri Dec 26 20:40:11 +0000 2014   \n",
       "3  548444679529041920  Fri Dec 26 11:46:15 +0000 2014   \n",
       "4  548311901227474944  Fri Dec 26 02:58:39 +0000 2014   \n",
       "\n",
       "                                               tweet  \n",
       "0  Risks in Using Social Media to Spot Signs of M...  \n",
       "1  RT @paula_span: The most effective nationwide ...  \n",
       "2  The New Old Age Blog: Diabetes Prevention That...  \n",
       "3  Well: Comfort Casseroles for Winter Dinners ht...  \n",
       "4  High-Level Knowledge Before Veterans Affairs S...  "
      ]
     },
     "execution_count": 46,
     "metadata": {},
     "output_type": "execute_result"
    }
   ],
   "source": [
    "df.head()"
   ]
  },
  {
   "cell_type": "code",
   "execution_count": 47,
   "metadata": {},
   "outputs": [],
   "source": [
    "# Gensim\n",
    "import gensim\n",
    "import gensim.corpora as corpora\n",
    "from gensim.utils import simple_preprocess\n",
    "from gensim.models import CoherenceModel\n",
    "import logging\n",
    "logging.basicConfig(format='%(asctime)s : %(levelname)s : %(message)s', level=logging.ERROR)"
   ]
  },
  {
   "cell_type": "code",
   "execution_count": 48,
   "metadata": {},
   "outputs": [],
   "source": [
    "\"\"\"https://spacy.io/api/annotation\"\"\"\n",
    "\n",
    "def bigrams(texts):\n",
    "    return [bigram_mod[doc] for doc in texts]\n",
    "\n",
    "def trigrams(texts):\n",
    "    return [trigram_mod[bigram_mod[doc]] for doc in texts]\n",
    "\n",
    "def lemmatization(texts, allowed_postags=['NOUN', 'ADJ', 'VERB', 'ADV']):\n",
    "    texts_out = []\n",
    "    for sent in texts:\n",
    "        doc = nlp(\" \".join(sent)) \n",
    "        texts_out.append([token.lemma_ for token in doc if token.pos_ in allowed_postags])\n",
    "    return texts_out\n",
    "\n",
    "\n",
    "def words(sentences):\n",
    "    for sentence in sentences:\n",
    "        yield(gensim.utils.simple_preprocess(str(sentence), deacc=True))\n"
   ]
  },
  {
   "cell_type": "code",
   "execution_count": 53,
   "metadata": {},
   "outputs": [
    {
     "name": "stdout",
     "output_type": "stream",
     "text": [
      "[['jesse', 'steinfeld', 'surgeon', 'general', 'tobacco', 'foe', 'die']]\n",
      "['jesse', 'steinfeld', 'surgeon', 'general', 'tobacco', 'foe', 'die']\n"
     ]
    }
   ],
   "source": [
    "tweet_words = list(words(clean_tweets))\n",
    "#text check\n",
    "print(tweet_words[:1])\n",
    "\n",
    "# Build the bigram and trigram models\n",
    "bigram = gensim.models.Phrases(tweet_words, min_count=5, threshold=80)\n",
    "trigram = gensim.models.Phrases(bigram[tweet_words], threshold=80) \n",
    "\n",
    "bigram_mod = gensim.models.phrases.Phraser(bigram)\n",
    "trigram_mod = gensim.models.phrases.Phraser(trigram)\n",
    "#text check\n",
    "print(trigram_mod[bigram_mod[tweet_words[0]]])"
   ]
  },
  {
   "cell_type": "code",
   "execution_count": 56,
   "metadata": {},
   "outputs": [
    {
     "name": "stdout",
     "output_type": "stream",
     "text": [
      "[['general', 'tobacco', 'foe', 'die']]\n"
     ]
    }
   ],
   "source": [
    "# Bigrams\n",
    "tweet_bigrams = bigrams(tweet_words)\n",
    "tweet_bigrams\n",
    "# lemmatization\n",
    "tweet_lemmatized = lemmatization(tweet_bigrams, allowed_postags=['NOUN', 'ADJ', 'VERB', 'ADV'])\n",
    "print(tweet_lemmatized[:1])"
   ]
  },
  {
   "cell_type": "code",
   "execution_count": 59,
   "metadata": {},
   "outputs": [],
   "source": [
    "# Dictionary\n",
    "id2word = corpora.Dictionary(tweet_lemmatized)\n",
    "# Corpus\n",
    "texts = tweet_lemmatized\n",
    "# Tweet term frequency\n",
    "corpus = [id2word.doc2bow(text) for text in texts]"
   ]
  },
  {
   "cell_type": "code",
   "execution_count": 61,
   "metadata": {},
   "outputs": [],
   "source": [
    "# LDA model\n",
    "lda_model = gensim.models.ldamodel.LdaModel(corpus=corpus,\n",
    "                                           id2word=id2word,\n",
    "                                           num_topics=5, \n",
    "                                           random_state=10,\n",
    "                                           update_every=1,\n",
    "                                           chunksize=100,\n",
    "                                           passes=10,\n",
    "                                           alpha='auto',\n",
    "                                           per_word_topics=True)"
   ]
  },
  {
   "cell_type": "code",
   "execution_count": 62,
   "metadata": {},
   "outputs": [
    {
     "name": "stdout",
     "output_type": "stream",
     "text": [
      "[(0,\n",
      "  '0.015*\"can\" + 0.015*\"plan\" + 0.015*\"grow\" + 0.015*\"health\" + 0.015*\"age\" + '\n",
      "  '0.015*\"exercise\" + 0.008*\"significantly\" + 0.008*\"food\" + 0.008*\"middle\" + '\n",
      "  '0.008*\"good\"'),\n",
      " (1,\n",
      "  '0.022*\"food\" + 0.015*\"can\" + 0.015*\"take\" + 0.015*\"adopt\" + 0.008*\"photo\" + '\n",
      "  '0.008*\"dm\" + 0.008*\"healthy\" + 0.008*\"news\" + 0.008*\"respond\" + '\n",
      "  '0.008*\"lentil\"'),\n",
      " (2,\n",
      "  '0.022*\"find\" + 0.017*\"brain\" + 0.017*\"age\" + 0.012*\"sweet\" + 0.012*\"care\" + '\n",
      "  '0.012*\"study\" + 0.012*\"may\" + 0.012*\"fear\" + 0.012*\"help\" + 0.012*\"tract\"'),\n",
      " (3,\n",
      "  '0.019*\"weight\" + 0.019*\"year\" + 0.019*\"statin\" + 0.019*\"ask\" + '\n",
      "  '0.013*\"people\" + 0.013*\"may\" + 0.013*\"new\" + 0.013*\"can\" + '\n",
      "  '0.013*\"guideline\" + 0.007*\"old\"'),\n",
      " (4,\n",
      "  '0.037*\"study\" + 0.025*\"cancer\" + 0.019*\"adult\" + 0.013*\"drug\" + '\n",
      "  '0.013*\"young\" + 0.013*\"new\" + 0.013*\"therapy\" + 0.013*\"risk\" + '\n",
      "  '0.013*\"doctor\" + 0.007*\"exercise\"')]\n"
     ]
    }
   ],
   "source": [
    "from pprint import pprint\n",
    "# Topics key words\n",
    "pprint(lda_model.print_topics())\n",
    "lda = lda_model[corpus]"
   ]
  },
  {
   "cell_type": "code",
   "execution_count": 64,
   "metadata": {},
   "outputs": [
    {
     "name": "stdout",
     "output_type": "stream",
     "text": [
      "Perplexity:  -6.540665078655643\n"
     ]
    }
   ],
   "source": [
    "# Perplexity measures the model with lower scores being the goal and a sign of a good model\n",
    "print('Perplexity: ', lda_model.log_perplexity(corpus))"
   ]
  },
  {
   "cell_type": "code",
   "execution_count": 66,
   "metadata": {},
   "outputs": [
    {
     "name": "stdout",
     "output_type": "stream",
     "text": [
      "Coherence:  0.5840670653286022\n"
     ]
    }
   ],
   "source": [
    "# Coherence measures the proposed topics distinguishability\n",
    "coherence_lda = CoherenceModel(model=lda_model, texts=tweet_lemmatized, dictionary=id2word, coherence='c_v')\n",
    "coherence = coherence_lda.get_coherence()\n",
    "print('Coherence: ', coherence)"
   ]
  },
  {
   "cell_type": "code",
   "execution_count": 67,
   "metadata": {},
   "outputs": [
    {
     "name": "stderr",
     "output_type": "stream",
     "text": [
      "C:\\Users\\607791\\Anaconda\\lib\\site-packages\\pyLDAvis\\_prepare.py:257: FutureWarning: Sorting because non-concatenation axis is not aligned. A future version\n",
      "of pandas will change to not sort by default.\n",
      "\n",
      "To accept the future behavior, pass 'sort=False'.\n",
      "\n",
      "To retain the current behavior and silence the warning, pass 'sort=True'.\n",
      "\n",
      "  return pd.concat([default_term_info] + list(topic_dfs))\n"
     ]
    },
    {
     "data": {
      "text/html": [
       "\n",
       "<link rel=\"stylesheet\" type=\"text/css\" href=\"https://cdn.rawgit.com/bmabey/pyLDAvis/files/ldavis.v1.0.0.css\">\n",
       "\n",
       "\n",
       "<div id=\"ldavis_el2933220166599450562488552087\"></div>\n",
       "<script type=\"text/javascript\">\n",
       "\n",
       "var ldavis_el2933220166599450562488552087_data = {\"mdsDat\": {\"x\": [0.10522582031070588, 0.0668720133799696, -0.07350795452242401, -0.06718116809994679, -0.03140871106830468], \"y\": [0.008110199546558896, -0.03350395330823251, -0.11423135770654193, 0.0733635446757548, 0.06626156679246076], \"topics\": [1, 2, 3, 4, 5], \"cluster\": [1, 1, 1, 1, 1], \"Freq\": [25.283559799194336, 21.14952278137207, 20.929595947265625, 16.854232788085938, 15.783092498779297]}, \"tinfo\": {\"Category\": [\"Default\", \"Default\", \"Default\", \"Default\", \"Default\", \"Default\", \"Default\", \"Default\", \"Default\", \"Default\", \"Default\", \"Default\", \"Default\", \"Default\", \"Default\", \"Default\", \"Default\", \"Default\", \"Default\", \"Default\", \"Default\", \"Default\", \"Default\", \"Default\", \"Default\", \"Default\", \"Default\", \"Default\", \"Default\", \"Default\", \"Topic1\", \"Topic1\", \"Topic1\", \"Topic1\", \"Topic1\", \"Topic1\", \"Topic1\", \"Topic1\", \"Topic1\", \"Topic1\", \"Topic1\", \"Topic1\", \"Topic1\", \"Topic1\", \"Topic1\", \"Topic1\", \"Topic1\", \"Topic1\", \"Topic1\", \"Topic1\", \"Topic1\", \"Topic1\", \"Topic1\", \"Topic1\", \"Topic1\", \"Topic1\", \"Topic1\", \"Topic1\", \"Topic1\", \"Topic1\", \"Topic1\", \"Topic1\", \"Topic1\", \"Topic1\", \"Topic1\", \"Topic1\", \"Topic1\", \"Topic1\", \"Topic1\", \"Topic1\", \"Topic1\", \"Topic1\", \"Topic1\", \"Topic1\", \"Topic1\", \"Topic1\", \"Topic1\", \"Topic1\", \"Topic1\", \"Topic1\", \"Topic1\", \"Topic2\", \"Topic2\", \"Topic2\", \"Topic2\", \"Topic2\", \"Topic2\", \"Topic2\", \"Topic2\", \"Topic2\", \"Topic2\", \"Topic2\", \"Topic2\", \"Topic2\", \"Topic2\", \"Topic2\", \"Topic2\", \"Topic2\", \"Topic2\", \"Topic2\", \"Topic2\", \"Topic2\", \"Topic2\", \"Topic2\", \"Topic2\", \"Topic2\", \"Topic2\", \"Topic2\", \"Topic2\", \"Topic2\", \"Topic2\", \"Topic2\", \"Topic2\", \"Topic2\", \"Topic2\", \"Topic2\", \"Topic2\", \"Topic2\", \"Topic2\", \"Topic2\", \"Topic2\", \"Topic2\", \"Topic2\", \"Topic2\", \"Topic2\", \"Topic2\", \"Topic2\", \"Topic2\", \"Topic3\", \"Topic3\", \"Topic3\", \"Topic3\", \"Topic3\", \"Topic3\", \"Topic3\", \"Topic3\", \"Topic3\", \"Topic3\", \"Topic3\", \"Topic3\", \"Topic3\", \"Topic3\", \"Topic3\", \"Topic3\", \"Topic3\", \"Topic3\", \"Topic3\", \"Topic3\", \"Topic3\", \"Topic3\", \"Topic3\", \"Topic3\", \"Topic3\", \"Topic3\", \"Topic3\", \"Topic3\", \"Topic3\", \"Topic3\", \"Topic3\", \"Topic3\", \"Topic3\", \"Topic3\", \"Topic3\", \"Topic3\", \"Topic3\", \"Topic3\", \"Topic3\", \"Topic3\", \"Topic3\", \"Topic3\", \"Topic4\", \"Topic4\", \"Topic4\", \"Topic4\", \"Topic4\", \"Topic4\", \"Topic4\", \"Topic4\", \"Topic4\", \"Topic4\", \"Topic4\", \"Topic4\", \"Topic4\", \"Topic4\", \"Topic4\", \"Topic4\", \"Topic4\", \"Topic4\", \"Topic4\", \"Topic4\", \"Topic4\", \"Topic4\", \"Topic4\", \"Topic4\", \"Topic4\", \"Topic4\", \"Topic4\", \"Topic4\", \"Topic4\", \"Topic4\", \"Topic4\", \"Topic4\", \"Topic4\", \"Topic4\", \"Topic4\", \"Topic5\", \"Topic5\", \"Topic5\", \"Topic5\", \"Topic5\", \"Topic5\", \"Topic5\", \"Topic5\", \"Topic5\", \"Topic5\", \"Topic5\", \"Topic5\", \"Topic5\", \"Topic5\", \"Topic5\", \"Topic5\", \"Topic5\", \"Topic5\", \"Topic5\", \"Topic5\", \"Topic5\", \"Topic5\", \"Topic5\", \"Topic5\", \"Topic5\", \"Topic5\", \"Topic5\", \"Topic5\", \"Topic5\", \"Topic5\", \"Topic5\", \"Topic5\", \"Topic5\", \"Topic5\", \"Topic5\", \"Topic5\", \"Topic5\", \"Topic5\", \"Topic5\", \"Topic5\", \"Topic5\", \"Topic5\", \"Topic5\"], \"Freq\": [6.0, 3.0, 3.0, 2.0, 2.0, 3.0, 3.0, 4.0, 2.0, 2.0, 2.0, 1.0, 2.0, 2.0, 2.0, 1.0, 2.0, 2.0, 2.0, 1.0, 2.0, 2.0, 2.0, 2.0, 3.0, 3.0, 1.0, 2.0, 1.0, 1.0, 2.022871494293213, 1.3907502889633179, 1.390748143196106, 1.3907346725463867, 1.3907320499420166, 1.3907272815704346, 1.3907227516174316, 1.3907177448272705, 2.6551570892333984, 0.7585849165916443, 0.7585832476615906, 0.7585831880569458, 0.7585821747779846, 0.7585808038711548, 0.758580207824707, 0.7585800886154175, 0.7585791945457458, 0.7585789561271667, 0.7585787773132324, 0.7585780620574951, 0.7585778832435608, 0.758577287197113, 0.7585771679878235, 0.7585769891738892, 0.7585768103599548, 0.7585765719413757, 0.7585763931274414, 0.758575975894928, 0.758575975894928, 0.7585753798484802, 2.018730640411377, 1.3907718658447266, 1.3908618688583374, 1.3907846212387085, 1.390825629234314, 1.387046217918396, 1.3907890319824219, 1.3907896280288696, 0.7587285041809082, 0.7586234211921692, 0.7586098313331604, 0.7586084008216858, 0.7586036324501038, 0.7586016058921814, 0.7585992217063904, 0.7585928440093994, 0.7585907578468323, 0.7585880756378174, 0.7585875988006592, 0.7585870027542114, 0.7585868239402771, 1.3006792068481445, 1.8919212818145752, 0.7094535231590271, 0.7094532251358032, 0.7094528675079346, 0.7094524502754211, 0.70945143699646, 0.7094511985778809, 0.7094502449035645, 0.709450364112854, 0.7094497084617615, 0.7094495892524719, 0.7094495296478271, 0.7094484567642212, 0.7094485759735107, 0.7094485759735107, 0.7094482183456421, 0.70944744348526, 0.7094472050666809, 0.7094470858573914, 0.7094471454620361, 0.7094467878341675, 0.7094464302062988, 0.7094451189041138, 0.7094451785087585, 0.7094448804855347, 0.7094448804855347, 0.7094439268112183, 0.7094433307647705, 0.7094420790672302, 2.4832725524902344, 3.66573166847229, 1.300703763961792, 1.3006808757781982, 1.3006672859191895, 1.3007475137710571, 1.3006808757781982, 0.7117672562599182, 0.7113530039787292, 0.7094753980636597, 0.7094647288322449, 0.7094629406929016, 0.7094601988792419, 0.709459662437439, 0.7094550132751465, 0.7094518542289734, 0.7094511985778809, 1.88357412815094, 1.8835641145706177, 1.8836970329284668, 1.8835790157318115, 0.7063494324684143, 0.7063479423522949, 0.7063471078872681, 0.7063465118408203, 0.7063460350036621, 0.7063454985618591, 0.7063453793525696, 0.70634526014328, 0.7063451409339905, 0.7063446044921875, 0.7063443660736084, 0.7063443064689636, 0.7063437700271606, 0.7063437700271606, 0.7063437104225159, 0.7063432931900024, 0.7063429951667786, 0.7063429951667786, 0.7063427567481995, 0.7063420414924622, 0.7063412070274353, 0.7063401937484741, 0.7063400149345398, 0.7063397765159607, 0.7063395380973816, 0.7063383460044861, 1.2949775457382202, 1.2950389385223389, 1.2950119972229004, 1.2950084209442139, 1.294994831085205, 0.7098622918128967, 0.706369161605835, 0.7063575983047485, 0.7063550353050232, 0.7063523530960083, 0.7063480615615845, 0.7063460946083069, 1.184065341949463, 0.6459236741065979, 0.6459224820137024, 0.6459199786186218, 0.6459198594093323, 0.6459197402000427, 0.6459189653396606, 0.6459188461303711, 0.6459184885025024, 0.6459184885025024, 0.6459178924560547, 0.6459177136421204, 0.6459175944328308, 0.6459174156188965, 0.6459170579910278, 0.6459161043167114, 0.6459157466888428, 0.6459140777587891, 0.6459137201309204, 0.6459137797355652, 0.6459136009216309, 0.6459130644798279, 0.6459128260612488, 0.6459129452705383, 0.6459128260612488, 0.6459128260612488, 0.6459124684333801, 0.6459124684333801, 0.6459121108055115, 0.6459118723869324, 1.7207410335540771, 1.1842225790023804, 1.1842272281646729, 0.6459154486656189, 0.6459141969680786, 1.1479257345199585, 0.6261489391326904, 0.6261484622955322, 0.626147449016571, 0.6261472702026367, 0.6261458396911621, 0.6261454224586487, 0.6261453628540039, 0.6261448264122009, 0.6261440515518188, 0.6261438131332397, 0.6261438727378845, 0.6261424422264099, 0.626142144203186, 0.6261416673660278, 0.6261399984359741, 0.6261395812034607, 0.6261393427848816, 0.6261385679244995, 0.6261385083198547, 0.626137912273407, 0.6261377334594727, 0.6261376142501831, 0.6261360049247742, 0.6261357665061951, 0.6261359453201294, 0.6261349320411682, 0.6261343955993652, 0.62613445520401, 0.6261340379714966, 0.6261340379714966, 1.1479209661483765, 1.1458462476730347, 1.1459845304489136, 1.1459367275238037, 1.1479296684265137, 0.6265063285827637, 0.6261618137359619, 0.6261561512947083, 0.6261553764343262, 0.6261418461799622, 0.6261401772499084, 0.6261389851570129], \"Term\": [\"study\", \"age\", \"food\", \"statin\", \"ask\", \"can\", \"find\", \"cancer\", \"weight\", \"year\", \"adult\", \"plan\", \"brain\", \"grow\", \"exercise\", \"adopt\", \"health\", \"take\", \"young\", \"risk\", \"guideline\", \"therapy\", \"doctor\", \"help\", \"may\", \"new\", \"good\", \"people\", \"tract\", \"less\", \"brain\", \"tract\", \"less\", \"infection\", \"many\", \"easy\", \"urinary\", \"think\", \"find\", \"deaf\", \"resistant\", \"problem\", \"mental\", \"access\", \"quit\", \"smoker\", \"jaw\", \"emission\", \"impulse\", \"contract\", \"infant\", \"start\", \"become\", \"face\", \"sexting\", \"caregiving\", \"ozone\", \"place\", \"serious\", \"eat\", \"age\", \"help\", \"sweet\", \"fear\", \"care\", \"old\", \"may\", \"study\", \"introduce\", \"people\", \"drug\", \"more\", \"health\", \"hospital\", \"contributor\", \"teen\", \"make\", \"threat\", \"woman\", \"patient\", \"year\", \"risk\", \"adult\", \"compare\", \"girl\", \"certain\", \"great\", \"school\", \"hormonal\", \"screening\", \"breast\", \"psychologically\", \"appear\", \"parent\", \"facial\", \"stroke\", \"treatment\", \"go\", \"adapt\", \"most\", \"pull\", \"best\", \"principal\", \"disfigurement\", \"kidney\", \"abuse\", \"standard\", \"prostate\", \"include\", \"prevent\", \"lung\", \"cancer\", \"study\", \"young\", \"therapy\", \"doctor\", \"drug\", \"new\", \"exercise\", \"food\", \"breastfeed\", \"child\", \"effective\", \"heart\", \"use\", \"grow\", \"patient\", \"injury\", \"statin\", \"ask\", \"weight\", \"year\", \"invite\", \"change\", \"fertility\", \"tell\", \"fight\", \"hospice\", \"history\", \"reason\", \"invisibility\", \"hormone\", \"law\", \"gain\", \"get\", \"oral\", \"routine\", \"drive\", \"bounce\", \"postdiete\", \"develop\", \"plunge\", \"incidence\", \"redefine\", \"brief\", \"tumor\", \"promise\", \"daily\", \"guideline\", \"people\", \"may\", \"new\", \"can\", \"old\", \"story\", \"die\", \"care\", \"loss\", \"death\", \"well\", \"adopt\", \"photo\", \"dm\", \"healthy\", \"news\", \"respond\", \"lentil\", \"break\", \"contain\", \"contact\", \"bad\", \"case\", \"comfort\", \"next\", \"reach\", \"toxic\", \"thank\", \"week\", \"leukemia\", \"essential\", \"drink\", \"vet\", \"vomit\", \"sugary\", \"team\", \"football\", \"gene\", \"method\", \"aim\", \"hard\", \"food\", \"take\", \"can\", \"effective\", \"threat\", \"plan\", \"diagnosis\", \"financial\", \"toll\", \"challenge\", \"mind\", \"map\", \"emotional\", \"scam\", \"provide\", \"maker\", \"online\", \"list\", \"allergy\", \"report\", \"illness\", \"smokingrelate\", \"option\", \"cope\", \"fashionable\", \"sunprotective\", \"hivaid\", \"light\", \"economic\", \"back\", \"reshape\", \"general\", \"sex\", \"pet\", \"foe\", \"hip\", \"grow\", \"exercise\", \"health\", \"age\", \"can\", \"significantly\", \"food\", \"middle\", \"good\", \"ask\", \"flash\", \"take\"], \"Total\": [6.0, 3.0, 3.0, 2.0, 2.0, 3.0, 3.0, 4.0, 2.0, 2.0, 2.0, 1.0, 2.0, 2.0, 2.0, 1.0, 2.0, 2.0, 2.0, 1.0, 2.0, 2.0, 2.0, 2.0, 3.0, 3.0, 1.0, 2.0, 1.0, 1.0, 2.470945119857788, 1.838772177696228, 1.8387718200683594, 1.8387702703475952, 1.8387696743011475, 1.8387690782546997, 1.8387688398361206, 1.8387681245803833, 3.6943531036376953, 1.2065917253494263, 1.2065913677215576, 1.2065916061401367, 1.2065914869308472, 1.206591248512268, 1.2065907716751099, 1.2065907716751099, 1.2065908908843994, 1.2065907716751099, 1.2065907716751099, 1.2065906524658203, 1.2065907716751099, 1.2065902948379517, 1.2065907716751099, 1.2065906524658203, 1.2065904140472412, 1.2065904140472412, 1.2065905332565308, 1.2065904140472412, 1.2065904140472412, 1.2065900564193726, 3.5145411491394043, 2.3605761528015137, 2.429990768432617, 2.4299910068511963, 2.9492130279541016, 3.0183658599853516, 3.5543317794799805, 6.446268081665039, 1.744884967803955, 2.9221551418304443, 3.5159590244293213, 1.797810673713684, 2.25046443939209, 1.7978105545043945, 1.7978086471557617, 1.7978099584579468, 1.79521906375885, 1.7448670864105225, 1.7283912897109985, 1.7978103160858154, 2.9725136756896973, 1.7568907737731934, 2.9802818298339844, 1.1656522750854492, 1.1656521558761597, 1.1656522750854492, 1.1656522750854492, 1.1656521558761597, 1.1656523942947388, 1.1656520366668701, 1.1656522750854492, 1.1656519174575806, 1.1656520366668701, 1.1656521558761597, 1.165651798248291, 1.1656520366668701, 1.1656520366668701, 1.165651798248291, 1.1656516790390015, 1.165651559829712, 1.165651798248291, 1.1656520366668701, 1.1656516790390015, 1.1656516790390015, 1.165651798248291, 1.1656520366668701, 1.165651798248291, 1.165651798248291, 1.165651559829712, 1.1656516790390015, 1.1656514406204224, 4.160141468048096, 6.446268081665039, 2.2951691150665283, 2.345520257949829, 2.345517635345459, 3.5159590244293213, 3.566323757171631, 2.2095401287078857, 3.302475690841675, 1.7542771100997925, 1.7978060245513916, 1.7039281129837036, 1.7039287090301514, 1.7542814016342163, 2.209266424179077, 1.7978103160858154, 1.7978054285049438, 2.340358257293701, 2.862159490585327, 2.972506284713745, 2.9725136756896973, 1.1630635261535645, 1.163063406944275, 1.1630631685256958, 1.1630630493164062, 1.1630632877349854, 1.1630632877349854, 1.1630632877349854, 1.1630631685256958, 1.163063406944275, 1.1630630493164062, 1.1630630493164062, 1.1630631685256958, 1.1630631685256958, 1.1630631685256958, 1.1630632877349854, 1.1630631685256958, 1.1630631685256958, 1.1630631685256958, 1.1630630493164062, 1.1630630493164062, 1.1630628108978271, 1.163062572479248, 1.1630630493164062, 1.1630629301071167, 1.1630626916885376, 1.1630630493164062, 2.342930555343628, 2.9221551418304443, 3.5543317794799805, 3.566323757171631, 3.871891736984253, 3.0183658599853516, 1.7013410329818726, 1.6848630905151367, 2.9492130279541016, 1.7952162027359009, 1.7542822360992432, 1.6848626136779785, 1.6510050296783447, 1.1127080917358398, 1.1127079725265503, 1.1127082109451294, 1.1127082109451294, 1.1127082109451294, 1.112708330154419, 1.1127082109451294, 1.1127080917358398, 1.112708330154419, 1.1127084493637085, 1.1127084493637085, 1.112708330154419, 1.1127082109451294, 1.1127082109451294, 1.1127082109451294, 1.1127084493637085, 1.1127084493637085, 1.1127080917358398, 1.112708330154419, 1.112708330154419, 1.1127084493637085, 1.1127084493637085, 1.112708568572998, 1.1127084493637085, 1.1127088069915771, 1.1127080917358398, 1.1127084493637085, 1.1127084493637085, 1.112708330154419, 3.302475690841675, 2.8049538135528564, 3.871891736984253, 1.7039281129837036, 1.7448670864105225, 1.6180469989776611, 1.0962316989898682, 1.096231460571289, 1.0962316989898682, 1.0962316989898682, 1.0962319374084473, 1.0962318181991577, 1.0962320566177368, 1.0962321758270264, 1.0962321758270264, 1.0962319374084473, 1.0962321758270264, 1.0962319374084473, 1.0962324142456055, 1.0962321758270264, 1.0962324142456055, 1.0962324142456055, 1.0962321758270264, 1.096232533454895, 1.0962324142456055, 1.0962324142456055, 1.0962324142456055, 1.0962326526641846, 1.0962324142456055, 1.096232533454895, 1.0962328910827637, 1.0962326526641846, 1.0962327718734741, 1.0962331295013428, 1.0962326526641846, 1.0962327718734741, 2.209266424179077, 2.2095401287078857, 2.25046443939209, 3.5145411491394043, 3.871891736984253, 1.6874033212661743, 3.302475690841675, 1.7283790111541748, 1.6346237659454346, 2.862159490585327, 1.7283909320831299, 2.8049538135528564], \"loglift\": [30.0, 29.0, 28.0, 27.0, 26.0, 25.0, 24.0, 23.0, 22.0, 21.0, 20.0, 19.0, 18.0, 17.0, 16.0, 15.0, 14.0, 13.0, 12.0, 11.0, 10.0, 9.0, 8.0, 7.0, 6.0, 5.0, 4.0, 3.0, 2.0, 1.0, 1.1749000549316406, 1.0958000421524048, 1.0958000421524048, 1.0958000421524048, 1.0957000255584717, 1.0957000255584717, 1.0957000255584717, 1.0957000255584717, 1.044700026512146, 0.9108999967575073, 0.9108999967575073, 0.9108999967575073, 0.9108999967575073, 0.9108999967575073, 0.9108999967575073, 0.9108999967575073, 0.9108999967575073, 0.9108999967575073, 0.9108999967575073, 0.9108999967575073, 0.9108999967575073, 0.9108999967575073, 0.9108999967575073, 0.9108999967575073, 0.9108999967575073, 0.9108999967575073, 0.9108999967575073, 0.9108999967575073, 0.9108999967575073, 0.9108999967575073, 0.8205999732017517, 0.8460000157356262, 0.8170999884605408, 0.8169999718666077, 0.6233999729156494, 0.5975000262260437, 0.4366999864578247, -0.15860000252723694, 0.5422000288963318, 0.026399999856948853, -0.15860000252723694, 0.5121999979019165, 0.28760001063346863, 0.5121999979019165, 0.5121999979019165, 0.5121999979019165, 0.5135999917984009, 0.5419999957084656, 0.5515000224113464, 0.5120999813079834, 0.00930000003427267, 1.2529000043869019, 1.0990999937057495, 1.0570000410079956, 1.0570000410079956, 1.0570000410079956, 1.0570000410079956, 1.0570000410079956, 1.0570000410079956, 1.0570000410079956, 1.0570000410079956, 1.0570000410079956, 1.0570000410079956, 1.0570000410079956, 1.0570000410079956, 1.0570000410079956, 1.0570000410079956, 1.0570000410079956, 1.0570000410079956, 1.0570000410079956, 1.0570000410079956, 1.0570000410079956, 1.0570000410079956, 1.0570000410079956, 1.0570000410079956, 1.0570000410079956, 1.0570000410079956, 1.0570000410079956, 1.0570000410079956, 1.0570000410079956, 1.0570000410079956, 1.037600040435791, 0.9890999794006348, 0.9857000112533569, 0.9639000296592712, 0.9639000296592712, 0.5591999888420105, 0.5449000000953674, 0.42080000042915344, 0.018300000578165054, 0.6482999920845032, 0.6237000226974487, 0.6773999929428101, 0.6773999929428101, 0.6481999754905701, 0.41760000586509705, 0.6237000226974487, 0.6237000226974487, 1.3468999862670898, 1.1455999612808228, 1.107800006866455, 1.107800006866455, 1.0652999877929688, 1.0652999877929688, 1.0652999877929688, 1.0652999877929688, 1.0652999877929688, 1.0652999877929688, 1.0652999877929688, 1.0652999877929688, 1.0652999877929688, 1.0652999877929688, 1.0652999877929688, 1.0652999877929688, 1.0652999877929688, 1.0652999877929688, 1.0652999877929688, 1.0652999877929688, 1.0652999877929688, 1.0652999877929688, 1.0652999877929688, 1.0652999877929688, 1.0652999877929688, 1.0652999877929688, 1.0652999877929688, 1.0652999877929688, 1.0652999877929688, 1.0652999877929688, 0.9710999727249146, 0.7501999735832214, 0.5544000267982483, 0.5509999990463257, 0.46880000829696655, 0.11659999936819077, 0.6850000023841858, 0.6947000026702881, 0.1348000019788742, 0.6312000155448914, 0.6542999744415283, 0.6947000026702881, 1.448099970817566, 1.2367000579833984, 1.2367000579833984, 1.2367000579833984, 1.2367000579833984, 1.2367000579833984, 1.2367000579833984, 1.2367000579833984, 1.2367000579833984, 1.2367000579833984, 1.2367000579833984, 1.2367000579833984, 1.2367000579833984, 1.2367000579833984, 1.2367000579833984, 1.2367000579833984, 1.2367000579833984, 1.2367000579833984, 1.2367000579833984, 1.2367000579833984, 1.2367000579833984, 1.2367000579833984, 1.2367000579833984, 1.2367000579833984, 1.2367000579833984, 1.2367000579833984, 1.2367000579833984, 1.2367000579833984, 1.2367000579833984, 1.2367000579833984, 1.1287000179290771, 0.9182999730110168, 0.5958999991416931, 0.8105000257492065, 0.7868000268936157, 1.503000020980835, 1.2862000465393066, 1.2862000465393066, 1.2862000465393066, 1.2862000465393066, 1.2862000465393066, 1.2862000465393066, 1.2862000465393066, 1.2862000465393066, 1.2862000465393066, 1.2862000465393066, 1.2862000465393066, 1.2862000465393066, 1.2862000465393066, 1.2862000465393066, 1.2862000465393066, 1.2862000465393066, 1.2862000465393066, 1.2862000465393066, 1.2862000465393066, 1.2862000465393066, 1.2862000465393066, 1.2862000465393066, 1.2862000465393066, 1.2862000465393066, 1.2862000465393066, 1.2862000465393066, 1.2862000465393066, 1.2862000465393066, 1.2862000465393066, 1.2862000465393066, 1.191499948501587, 1.1895999908447266, 1.1713999509811401, 0.7254999876022339, 0.6304000020027161, 0.855400025844574, 0.1834000051021576, 0.8309000134468079, 0.8866999745368958, 0.3264999985694885, 0.8309000134468079, 0.3467000126838684], \"logprob\": [30.0, 29.0, 28.0, 27.0, 26.0, 25.0, 24.0, 23.0, 22.0, 21.0, 20.0, 19.0, 18.0, 17.0, 16.0, 15.0, 14.0, 13.0, 12.0, 11.0, 10.0, 9.0, 8.0, 7.0, 6.0, 5.0, 4.0, 3.0, 2.0, 1.0, -4.077400207519531, -4.452099800109863, -4.452099800109863, -4.452099800109863, -4.452099800109863, -4.452099800109863, -4.452099800109863, -4.452099800109863, -3.805500030517578, -5.058300018310547, -5.058300018310547, -5.058300018310547, -5.058300018310547, -5.058300018310547, -5.058300018310547, -5.058300018310547, -5.058300018310547, -5.058300018310547, -5.058300018310547, -5.058300018310547, -5.058300018310547, -5.058300018310547, -5.058300018310547, -5.058300018310547, -5.058300018310547, -5.058300018310547, -5.058300018310547, -5.058300018310547, -5.058300018310547, -5.058300018310547, -4.079500198364258, -4.452099800109863, -4.452000141143799, -4.452099800109863, -4.452099800109863, -4.454800128936768, -4.452099800109863, -4.452099800109863, -5.05810022354126, -5.058199882507324, -5.058199882507324, -5.058199882507324, -5.058199882507324, -5.058199882507324, -5.058199882507324, -5.058300018310547, -5.058300018310547, -5.058300018310547, -5.058300018310547, -5.058300018310547, -5.058300018310547, -4.3404998779296875, -3.9658000469207764, -4.946700096130371, -4.946700096130371, -4.946700096130371, -4.946700096130371, -4.946700096130371, -4.946700096130371, -4.946700096130371, -4.946700096130371, -4.946700096130371, -4.946700096130371, -4.946700096130371, -4.946700096130371, -4.946700096130371, -4.946700096130371, -4.946700096130371, -4.946700096130371, -4.946700096130371, -4.946700096130371, -4.946700096130371, -4.946700096130371, -4.946700096130371, -4.946700096130371, -4.946700096130371, -4.946700096130371, -4.946700096130371, -4.946700096130371, -4.946700096130371, -4.946700096130371, -3.6937999725341797, -3.3043999671936035, -4.3404998779296875, -4.3404998779296875, -4.3404998779296875, -4.3404998779296875, -4.3404998779296875, -4.943399906158447, -4.943999767303467, -4.946700096130371, -4.946700096130371, -4.946700096130371, -4.946700096130371, -4.946700096130371, -4.946700096130371, -4.946700096130371, -4.946700096130371, -3.9598000049591064, -3.9598000049591064, -3.959700107574463, -3.9598000049591064, -4.9405999183654785, -4.9405999183654785, -4.9405999183654785, -4.9405999183654785, -4.9405999183654785, -4.9405999183654785, -4.9405999183654785, -4.9405999183654785, -4.9405999183654785, -4.9405999183654785, -4.9405999183654785, -4.9405999183654785, -4.9405999183654785, -4.9405999183654785, -4.9405999183654785, -4.9405999183654785, -4.9405999183654785, -4.9405999183654785, -4.9405999183654785, -4.9405999183654785, -4.9405999183654785, -4.9405999183654785, -4.9405999183654785, -4.9405999183654785, -4.9405999183654785, -4.9405999183654785, -4.334499835968018, -4.334400177001953, -4.334499835968018, -4.334499835968018, -4.334499835968018, -4.935699939727783, -4.9405999183654785, -4.9405999183654785, -4.9405999183654785, -4.9405999183654785, -4.9405999183654785, -4.9405999183654785, -4.207499980926514, -4.813499927520752, -4.813499927520752, -4.813499927520752, -4.813499927520752, -4.813499927520752, -4.813499927520752, -4.813499927520752, -4.813499927520752, -4.813499927520752, -4.813499927520752, -4.813499927520752, -4.813499927520752, -4.813499927520752, -4.813499927520752, -4.813499927520752, -4.813499927520752, -4.813499927520752, -4.813499927520752, -4.813499927520752, -4.813499927520752, -4.813499927520752, -4.813499927520752, -4.813499927520752, -4.813499927520752, -4.813499927520752, -4.813499927520752, -4.813499927520752, -4.813499927520752, -4.813499927520752, -3.833699941635132, -4.207300186157227, -4.207300186157227, -4.813499927520752, -4.813499927520752, -4.172800064086914, -4.778900146484375, -4.778900146484375, -4.778900146484375, -4.778900146484375, -4.778900146484375, -4.778900146484375, -4.778900146484375, -4.778900146484375, -4.778900146484375, -4.778900146484375, -4.778900146484375, -4.778900146484375, -4.778900146484375, -4.778900146484375, -4.778900146484375, -4.778900146484375, -4.778900146484375, -4.778900146484375, -4.778900146484375, -4.778900146484375, -4.778900146484375, -4.778900146484375, -4.778900146484375, -4.778900146484375, -4.778900146484375, -4.778900146484375, -4.778900146484375, -4.778900146484375, -4.778900146484375, -4.778900146484375, -4.172800064086914, -4.174600124359131, -4.174499988555908, -4.174499988555908, -4.172800064086914, -4.778299808502197, -4.778900146484375, -4.778900146484375, -4.778900146484375, -4.778900146484375, -4.778900146484375, -4.778900146484375]}, \"token.table\": {\"Topic\": [2, 1, 2, 4, 1, 2, 1, 5, 4, 5, 2, 3, 5, 5, 4, 1, 2, 3, 1, 4, 2, 2, 3, 3, 3, 4, 5, 1, 2, 3, 1, 3, 5, 1, 4, 2, 5, 3, 1, 2, 4, 2, 4, 4, 1, 1, 2, 5, 3, 1, 2, 3, 3, 5, 3, 5, 2, 4, 2, 3, 4, 3, 1, 2, 3, 4, 1, 1, 5, 2, 4, 1, 5, 4, 2, 5, 1, 2, 5, 1, 2, 3, 3, 5, 1, 2, 1, 5, 5, 2, 4, 5, 4, 3, 4, 5, 3, 2, 2, 4, 5, 2, 2, 5, 2, 3, 4, 1, 5, 4, 2, 4, 1, 5, 5, 3, 5, 2, 3, 3, 1, 2, 5, 1, 3, 2, 1, 1, 1, 2, 1, 4, 3, 3, 1, 2, 3, 4, 1, 4, 5, 5, 1, 3, 2, 1, 3, 5, 1, 5, 1, 3, 4, 1, 4, 1, 5, 5, 1, 2, 2, 1, 2, 3, 4, 4, 1, 2, 3, 5, 5, 3, 1, 2, 1, 2, 1, 3, 4, 5, 4, 1, 5, 3, 3, 2, 2, 1, 3, 2, 5, 2, 2, 1, 4, 3, 3, 5, 5, 1, 4, 2, 3, 5, 2, 2, 1, 5, 1, 2, 5, 1, 5, 2, 1, 3, 3, 4, 2, 1, 2, 4, 5, 4, 5, 1, 2, 1, 4, 5, 4, 1, 2, 3, 4, 2, 3, 1, 1, 4, 5, 4, 1, 2, 3, 1, 2, 3, 4, 4, 4, 1, 3, 3, 5, 1, 5, 1, 3, 2, 4], \"Freq\": [0.85788893699646, 0.8287810683250427, 0.8578892350196838, 0.60569167137146, 0.33553874492645264, 0.6710774898529053, 0.5690643191337585, 0.2845321595668793, 0.8987079858779907, 0.9122152924537659, 0.85788893699646, 0.6987730860710144, 0.3493865430355072, 0.9122152328491211, 0.8987079858779907, 0.8287814259529114, 0.85788893699646, 0.8597985506057739, 0.8094068765640259, 0.8987082242965698, 0.8578887581825256, 0.5700353980064392, 0.5700353980064392, 0.8597986102104187, 0.2582716941833496, 0.2582716941833496, 0.2582716941833496, 0.24037644267082214, 0.4807528853416443, 0.24037644267082214, 0.33907350897789, 0.33907350897789, 0.33907350897789, 0.8287816643714905, 0.8987079858779907, 0.8578887581825256, 0.9122158885002136, 0.8597983717918396, 0.5562335252761841, 0.5562335252761841, 0.8987081050872803, 0.8578887581825256, 0.8987081050872803, 0.8987082839012146, 0.8287814855575562, 0.556232750415802, 0.556232750415802, 0.9122152328491211, 0.8597986102104187, 0.8287807703018188, 0.5700337290763855, 0.5700337290763855, 0.8597986102104187, 0.9122158885002136, 0.5935200452804565, 0.5935200452804565, 0.8578892350196838, 0.8987084031105042, 0.4263451099395752, 0.4263451099395752, 0.8987081050872803, 0.8597985506057739, 0.28441742062568665, 0.28441742062568665, 0.28441742062568665, 0.28441742062568665, 0.543842077255249, 0.8287819027900696, 0.9122152924537659, 0.5868791937828064, 0.5868791937828064, 0.8287814259529114, 0.9122155904769897, 0.8987081050872803, 0.45258286595344543, 0.45258286595344543, 0.8287814855575562, 0.8578891158103943, 0.9122152924537659, 0.4115241467952728, 0.4115241467952728, 0.8597985506057739, 0.8597984313964844, 0.9122161269187927, 0.8120501637458801, 0.2706833779811859, 0.5785728096961975, 0.5785728096961975, 0.9122151136398315, 0.3028031289577484, 0.6056062579154968, 0.3028031289577484, 0.8987077474594116, 0.8597985506057739, 0.8987082839012146, 0.9122151136398315, 0.8597985506057739, 0.8578888773918152, 0.8578891158103943, 0.6117615699768066, 0.6117615699768066, 0.8578887581825256, 0.4526389241218567, 0.4526389241218567, 0.4268158972263336, 0.4268158972263336, 0.8987081050872803, 0.4443527162075043, 0.4443527162075043, 0.8987082242965698, 0.5868790149688721, 0.5868790149688721, 0.4236253798007965, 0.4236253798007965, 0.912214994430542, 0.8597984313964844, 0.9122152924537659, 0.8578886985778809, 0.8597986102104187, 0.8597984313964844, 0.5562321543693542, 0.5562321543693542, 0.9122152924537659, 0.8287814259529114, 0.859798789024353, 0.8578892946243286, 0.8287814259529114, 0.5438417196273804, 0.5562337040901184, 0.5562337040901184, 0.573103666305542, 0.573103666305542, 0.8597983717918396, 0.85979825258255, 0.8287813067436218, 0.8578891158103943, 0.8597986102104187, 0.8987081050872803, 0.5438412427902222, 0.8987082839012146, 0.9122151136398315, 0.9122157096862793, 0.5570359826087952, 0.5570359826087952, 0.8578894138336182, 0.5570350885391235, 0.5570350885391235, 0.9122157096862793, 0.5438418984413147, 0.9122158288955688, 0.2813468277454376, 0.2813468277454376, 0.2813468277454376, 0.8287808895111084, 0.8987079858779907, 0.5785768032073975, 0.5785768032073975, 0.9122157096862793, 0.5562320947647095, 0.5562320947647095, 0.8578892946243286, 0.2804007828235626, 0.2804007828235626, 0.2804007828235626, 0.8987082242965698, 0.8987082242965698, 0.3313050866127014, 0.3313050866127014, 0.3313050866127014, 0.912215530872345, 0.912215530872345, 0.8597985506057739, 0.8287815451622009, 0.8578888773918152, 0.556232213973999, 0.556232213973999, 0.3422131836414337, 0.3422131836414337, 0.3422131836414337, 0.9122146964073181, 0.8987082839012146, 0.8287816643714905, 0.618028998374939, 0.8597986102104187, 0.8597985506057739, 0.8578892350196838, 0.8578892350196838, 0.8287808299064636, 0.8597989082336426, 0.8578891158103943, 0.912215530872345, 0.8578890562057495, 0.8578891158103943, 0.8287814259529114, 0.8987082242965698, 0.8597985506057739, 0.8597989678382874, 0.912215530872345, 0.9122149348258972, 0.828781008720398, 0.8987082242965698, 0.569187343120575, 0.8597984313964844, 0.912215530872345, 0.8578888773918152, 0.85788893699646, 0.8287816643714905, 0.912214994430542, 0.8287816643714905, 0.5926265716552734, 0.5926265716552734, 0.8287814259529114, 0.9122152924537659, 0.8578891158103943, 0.8287817239761353, 0.8545700311660767, 0.5877716541290283, 0.5877716541290283, 0.85788893699646, 0.15512850880622864, 0.6205140352249146, 0.15512850880622864, 0.15512850880622864, 0.898707926273346, 0.9122152924537659, 0.4115242063999176, 0.4115242063999176, 0.3565120995044708, 0.3565120995044708, 0.3565120995044708, 0.8987079858779907, 0.5562323331832886, 0.5562323331832886, 0.8597986102104187, 0.8987079858779907, 0.426344633102417, 0.426344633102417, 0.5438423752784729, 0.5731095671653748, 0.5731095671653748, 0.9122158885002136, 0.8987082242965698, 0.5438411831855774, 0.85788893699646, 0.8597987294197083, 0.5438421368598938, 0.5700339674949646, 0.5700339674949646, 0.8987079858779907, 0.8987079858779907, 0.8987079858779907, 0.33641645312309265, 0.6728329062461853, 0.5935202240943909, 0.5935202240943909, 0.578572690486908, 0.578572690486908, 0.3364156186580658, 0.6728312373161316, 0.4356977343559265, 0.4356977343559265], \"Term\": [\"abuse\", \"access\", \"adapt\", \"adopt\", \"adult\", \"adult\", \"age\", \"age\", \"aim\", \"allergy\", \"appear\", \"ask\", \"ask\", \"back\", \"bad\", \"become\", \"best\", \"bounce\", \"brain\", \"break\", \"breast\", \"breastfeed\", \"breastfeed\", \"brief\", \"can\", \"can\", \"can\", \"cancer\", \"cancer\", \"cancer\", \"care\", \"care\", \"care\", \"caregiving\", \"case\", \"certain\", \"challenge\", \"change\", \"child\", \"child\", \"comfort\", \"compare\", \"contact\", \"contain\", \"contract\", \"contributor\", \"contributor\", \"cope\", \"daily\", \"deaf\", \"death\", \"death\", \"develop\", \"diagnosis\", \"die\", \"die\", \"disfigurement\", \"dm\", \"doctor\", \"doctor\", \"drink\", \"drive\", \"drug\", \"drug\", \"drug\", \"drug\", \"easy\", \"eat\", \"economic\", \"effective\", \"effective\", \"emission\", \"emotional\", \"essential\", \"exercise\", \"exercise\", \"face\", \"facial\", \"fashionable\", \"fear\", \"fear\", \"fertility\", \"fight\", \"financial\", \"find\", \"find\", \"flash\", \"flash\", \"foe\", \"food\", \"food\", \"food\", \"football\", \"gain\", \"gene\", \"general\", \"get\", \"girl\", \"go\", \"good\", \"good\", \"great\", \"grow\", \"grow\", \"guideline\", \"guideline\", \"hard\", \"health\", \"health\", \"healthy\", \"heart\", \"heart\", \"help\", \"help\", \"hip\", \"history\", \"hivaid\", \"hormonal\", \"hormone\", \"hospice\", \"hospital\", \"hospital\", \"illness\", \"impulse\", \"incidence\", \"include\", \"infant\", \"infection\", \"injury\", \"injury\", \"introduce\", \"introduce\", \"invisibility\", \"invite\", \"jaw\", \"kidney\", \"law\", \"lentil\", \"less\", \"leukemia\", \"light\", \"list\", \"loss\", \"loss\", \"lung\", \"make\", \"make\", \"maker\", \"many\", \"map\", \"may\", \"may\", \"may\", \"mental\", \"method\", \"middle\", \"middle\", \"mind\", \"more\", \"more\", \"most\", \"new\", \"new\", \"new\", \"news\", \"next\", \"old\", \"old\", \"old\", \"online\", \"option\", \"oral\", \"ozone\", \"parent\", \"patient\", \"patient\", \"people\", \"people\", \"people\", \"pet\", \"photo\", \"place\", \"plan\", \"plunge\", \"postdiete\", \"prevent\", \"principal\", \"problem\", \"promise\", \"prostate\", \"provide\", \"psychologically\", \"pull\", \"quit\", \"reach\", \"reason\", \"redefine\", \"report\", \"reshape\", \"resistant\", \"respond\", \"risk\", \"routine\", \"scam\", \"school\", \"screening\", \"serious\", \"sex\", \"sexting\", \"significantly\", \"significantly\", \"smoker\", \"smokingrelate\", \"standard\", \"start\", \"statin\", \"story\", \"story\", \"stroke\", \"study\", \"study\", \"study\", \"study\", \"sugary\", \"sunprotective\", \"sweet\", \"sweet\", \"take\", \"take\", \"take\", \"team\", \"teen\", \"teen\", \"tell\", \"thank\", \"therapy\", \"therapy\", \"think\", \"threat\", \"threat\", \"toll\", \"toxic\", \"tract\", \"treatment\", \"tumor\", \"urinary\", \"use\", \"use\", \"vet\", \"vomit\", \"week\", \"weight\", \"weight\", \"well\", \"well\", \"woman\", \"woman\", \"year\", \"year\", \"young\", \"young\"]}, \"R\": 30, \"lambda.step\": 0.01, \"plot.opts\": {\"xlab\": \"PC1\", \"ylab\": \"PC2\"}, \"topic.order\": [3, 5, 4, 2, 1]};\n",
       "\n",
       "function LDAvis_load_lib(url, callback){\n",
       "  var s = document.createElement('script');\n",
       "  s.src = url;\n",
       "  s.async = true;\n",
       "  s.onreadystatechange = s.onload = callback;\n",
       "  s.onerror = function(){console.warn(\"failed to load library \" + url);};\n",
       "  document.getElementsByTagName(\"head\")[0].appendChild(s);\n",
       "}\n",
       "\n",
       "if(typeof(LDAvis) !== \"undefined\"){\n",
       "   // already loaded: just create the visualization\n",
       "   !function(LDAvis){\n",
       "       new LDAvis(\"#\" + \"ldavis_el2933220166599450562488552087\", ldavis_el2933220166599450562488552087_data);\n",
       "   }(LDAvis);\n",
       "}else if(typeof define === \"function\" && define.amd){\n",
       "   // require.js is available: use it to load d3/LDAvis\n",
       "   require.config({paths: {d3: \"https://cdnjs.cloudflare.com/ajax/libs/d3/3.5.5/d3.min\"}});\n",
       "   require([\"d3\"], function(d3){\n",
       "      window.d3 = d3;\n",
       "      LDAvis_load_lib(\"https://cdn.rawgit.com/bmabey/pyLDAvis/files/ldavis.v1.0.0.js\", function(){\n",
       "        new LDAvis(\"#\" + \"ldavis_el2933220166599450562488552087\", ldavis_el2933220166599450562488552087_data);\n",
       "      });\n",
       "    });\n",
       "}else{\n",
       "    // require.js not available: dynamically load d3 & LDAvis\n",
       "    LDAvis_load_lib(\"https://cdnjs.cloudflare.com/ajax/libs/d3/3.5.5/d3.min.js\", function(){\n",
       "         LDAvis_load_lib(\"https://cdn.rawgit.com/bmabey/pyLDAvis/files/ldavis.v1.0.0.js\", function(){\n",
       "                 new LDAvis(\"#\" + \"ldavis_el2933220166599450562488552087\", ldavis_el2933220166599450562488552087_data);\n",
       "            })\n",
       "         });\n",
       "}\n",
       "</script>"
      ],
      "text/plain": [
       "PreparedData(topic_coordinates=              x         y  topics  cluster       Freq\n",
       "topic                                                \n",
       "2      0.105226  0.008110       1        1  25.283560\n",
       "4      0.066872 -0.033504       2        1  21.149523\n",
       "3     -0.073508 -0.114231       3        1  20.929596\n",
       "1     -0.067181  0.073364       4        1  16.854233\n",
       "0     -0.031409  0.066262       5        1  15.783092, topic_info=    Category      Freq           Term     Total  loglift  logprob\n",
       "22   Default  6.000000          study  6.000000  30.0000  30.0000\n",
       "60   Default  3.000000            age  3.000000  29.0000  29.0000\n",
       "31   Default  3.000000           food  3.000000  28.0000  28.0000\n",
       "179  Default  2.000000         statin  2.000000  27.0000  27.0000\n",
       "156  Default  2.000000            ask  2.000000  26.0000  26.0000\n",
       "14   Default  3.000000            can  3.000000  25.0000  25.0000\n",
       "126  Default  3.000000           find  3.000000  24.0000  24.0000\n",
       "16   Default  4.000000         cancer  4.000000  23.0000  23.0000\n",
       "100  Default  2.000000         weight  2.000000  22.0000  22.0000\n",
       "135  Default  2.000000           year  2.000000  21.0000  21.0000\n",
       "143  Default  2.000000          adult  2.000000  20.0000  20.0000\n",
       "158  Default  1.000000           plan  1.000000  19.0000  19.0000\n",
       "113  Default  2.000000          brain  2.000000  18.0000  18.0000\n",
       "144  Default  2.000000           grow  2.000000  17.0000  17.0000\n",
       "157  Default  2.000000       exercise  2.000000  16.0000  16.0000\n",
       "286  Default  1.000000          adopt  1.000000  15.0000  15.0000\n",
       "7    Default  2.000000         health  2.000000  14.0000  14.0000\n",
       "47   Default  2.000000           take  2.000000  13.0000  13.0000\n",
       "75   Default  2.000000          young  2.000000  12.0000  12.0000\n",
       "294  Default  1.000000           risk  1.000000  11.0000  11.0000\n",
       "92   Default  2.000000      guideline  2.000000  10.0000  10.0000\n",
       "169  Default  2.000000        therapy  2.000000   9.0000   9.0000\n",
       "38   Default  2.000000         doctor  2.000000   8.0000   8.0000\n",
       "104  Default  2.000000           help  2.000000   7.0000   7.0000\n",
       "88   Default  3.000000            may  3.000000   6.0000   6.0000\n",
       "51   Default  3.000000            new  3.000000   5.0000   5.0000\n",
       "32   Default  1.000000           good  1.000000   4.0000   4.0000\n",
       "11   Default  2.000000         people  2.000000   3.0000   3.0000\n",
       "152  Default  1.000000          tract  1.000000   2.0000   2.0000\n",
       "8    Default  1.000000           less  1.000000   1.0000   1.0000\n",
       "..       ...       ...            ...       ...      ...      ...\n",
       "28    Topic5  0.626142        allergy  1.096232   1.2862  -4.7789\n",
       "214   Topic5  0.626142         report  1.096232   1.2862  -4.7789\n",
       "212   Topic5  0.626140        illness  1.096232   1.2862  -4.7789\n",
       "215   Topic5  0.626140  smokingrelate  1.096232   1.2862  -4.7789\n",
       "163   Topic5  0.626139         option  1.096232   1.2862  -4.7789\n",
       "220   Topic5  0.626139           cope  1.096233   1.2862  -4.7789\n",
       "162   Topic5  0.626139    fashionable  1.096232   1.2862  -4.7789\n",
       "165   Topic5  0.626138  sunprotective  1.096232   1.2862  -4.7789\n",
       "221   Topic5  0.626138         hivaid  1.096232   1.2862  -4.7789\n",
       "65    Topic5  0.626138          light  1.096233   1.2862  -4.7789\n",
       "176   Topic5  0.626136       economic  1.096232   1.2862  -4.7789\n",
       "172   Topic5  0.626136           back  1.096233   1.2862  -4.7789\n",
       "164   Topic5  0.626136        reshape  1.096233   1.2862  -4.7789\n",
       "2     Topic5  0.626135        general  1.096233   1.2862  -4.7789\n",
       "296   Topic5  0.626134            sex  1.096233   1.2862  -4.7789\n",
       "222   Topic5  0.626134            pet  1.096233   1.2862  -4.7789\n",
       "1     Topic5  0.626134            foe  1.096233   1.2862  -4.7789\n",
       "295   Topic5  0.626134            hip  1.096233   1.2862  -4.7789\n",
       "144   Topic5  1.147921           grow  2.209266   1.1915  -4.1728\n",
       "157   Topic5  1.145846       exercise  2.209540   1.1896  -4.1746\n",
       "7     Topic5  1.145985         health  2.250464   1.1714  -4.1745\n",
       "60    Topic5  1.145937            age  3.514541   0.7255  -4.1745\n",
       "14    Topic5  1.147930            can  3.871892   0.6304  -4.1728\n",
       "205   Topic5  0.626506  significantly  1.687403   0.8554  -4.7783\n",
       "31    Topic5  0.626162           food  3.302476   0.1834  -4.7789\n",
       "122   Topic5  0.626156         middle  1.728379   0.8309  -4.7789\n",
       "32    Topic5  0.626155           good  1.634624   0.8867  -4.7789\n",
       "156   Topic5  0.626142            ask  2.862159   0.3265  -4.7789\n",
       "64    Topic5  0.626140          flash  1.728391   0.8309  -4.7789\n",
       "47    Topic5  0.626139           take  2.804954   0.3467  -4.7789\n",
       "\n",
       "[248 rows x 6 columns], token_table=      Topic      Freq        Term\n",
       "term                             \n",
       "298       2  0.857889       abuse\n",
       "4         1  0.828781      access\n",
       "256       2  0.857889       adapt\n",
       "286       4  0.605692       adopt\n",
       "143       1  0.335539       adult\n",
       "143       2  0.671077       adult\n",
       "60        1  0.569064         age\n",
       "60        5  0.284532         age\n",
       "72        4  0.898708         aim\n",
       "28        5  0.912215     allergy\n",
       "166       2  0.857889      appear\n",
       "156       3  0.698773         ask\n",
       "156       5  0.349387         ask\n",
       "172       5  0.912215        back\n",
       "315       4  0.898708         bad\n",
       "147       1  0.828781      become\n",
       "235       2  0.857889        best\n",
       "24        3  0.859799      bounce\n",
       "113       1  0.809407       brain\n",
       "316       4  0.898708       break\n",
       "167       2  0.857889      breast\n",
       "134       2  0.570035  breastfeed\n",
       "134       3  0.570035  breastfeed\n",
       "48        3  0.859799       brief\n",
       "14        3  0.258272         can\n",
       "14        4  0.258272         can\n",
       "14        5  0.258272         can\n",
       "16        1  0.240376      cancer\n",
       "16        2  0.480753      cancer\n",
       "16        3  0.240376      cancer\n",
       "...     ...       ...         ...\n",
       "90        1  0.556232        teen\n",
       "90        2  0.556232        teen\n",
       "82        3  0.859799        tell\n",
       "121       4  0.898708       thank\n",
       "169       2  0.426345     therapy\n",
       "169       3  0.426345     therapy\n",
       "226       1  0.543842       think\n",
       "183       1  0.573110      threat\n",
       "183       4  0.573110      threat\n",
       "338       5  0.912216        toll\n",
       "341       4  0.898708       toxic\n",
       "152       1  0.543841       tract\n",
       "239       2  0.857889   treatment\n",
       "314       3  0.859799       tumor\n",
       "153       1  0.543842     urinary\n",
       "146       2  0.570034         use\n",
       "146       3  0.570034         use\n",
       "342       4  0.898708         vet\n",
       "343       4  0.898708       vomit\n",
       "333       4  0.898708        week\n",
       "100       1  0.336416      weight\n",
       "100       3  0.672833      weight\n",
       "285       3  0.593520        well\n",
       "285       5  0.593520        well\n",
       "219       1  0.578573       woman\n",
       "219       5  0.578573       woman\n",
       "135       1  0.336416        year\n",
       "135       3  0.672831        year\n",
       "75        2  0.435698       young\n",
       "75        4  0.435698       young\n",
       "\n",
       "[261 rows x 3 columns], R=30, lambda_step=0.01, plot_opts={'xlab': 'PC1', 'ylab': 'PC2'}, topic_order=[3, 5, 4, 2, 1])"
      ]
     },
     "execution_count": 67,
     "metadata": {},
     "output_type": "execute_result"
    }
   ],
   "source": [
    "import pyLDAvis\n",
    "import pyLDAvis.gensim \n",
    "\n",
    "# Topic Visualization\n",
    "pyLDAvis.enable_notebook()\n",
    "distance_map = pyLDAvis.gensim.prepare(lda_model, corpus, id2word)\n",
    "distance_map"
   ]
  },
  {
   "cell_type": "markdown",
   "metadata": {},
   "source": [
    "The goal of this assignment was to cluster tweets into topics using TFIDF/Kmeans and LDA. Both methods were successfully able to cluster the tweets. Personally, I think TFIDF is more suited for longer documents that contain more text than tweets which is why I went with LDA for the second model. I feel LDA shines on smaller text but is outclassed on larger documents making tweets an ideal use case. LDA ultimately had an intermediate perplexity and coherence score. (Perplexity measures the model with lower scores being the goal and a sign of a good model and coherence measures the proposed topics distinguishability. The top terms for each topic were also determined, the \"pylDavis\" visualization package is fantastic in this regard as it shows not only the topics distance but also the top words and the words that overlap between topics. It is a useful tool in selecting the ideal number of topics as the more topics that are added often the more overlap occurs which tends to be undesirable."
   ]
  }
 ],
 "metadata": {
  "kernelspec": {
   "display_name": "Python 3",
   "language": "python",
   "name": "python3"
  },
  "language_info": {
   "codemirror_mode": {
    "name": "ipython",
    "version": 3
   },
   "file_extension": ".py",
   "mimetype": "text/x-python",
   "name": "python",
   "nbconvert_exporter": "python",
   "pygments_lexer": "ipython3",
   "version": "3.7.3"
  }
 },
 "nbformat": 4,
 "nbformat_minor": 2
}
